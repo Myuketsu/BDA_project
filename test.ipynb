{
 "cells": [
  {
   "cell_type": "code",
   "execution_count": 14,
   "metadata": {},
   "outputs": [
    {
     "data": {
      "text/plain": [
       "\"code,nom,cheflieu\\r\\n1,Guadeloupe,97105\\r\\n2,Martinique,97209\\r\\n3,Guyane,97302\\r\\n4,La Réunion,97411\\r\\n6,Mayotte,97608\\r\\n11,Île-de-France,75056\\r\\n24,Centre-Val de Loire,45234\\r\\n27,Bourgogne-Franche-Comté,21231\\r\\n28,Normandie,76540\\r\\n32,Hauts-de-France,59350\\r\\n44,Grand Est,67482\\r\\n52,Pays de la Loire,44109\\r\\n53,Bretagne,35238\\r\\n75,Nouvelle-Aquitaine,33063\\r\\n76,Occitanie,31555\\r\\n84,Auvergne-Rhône-Alpes,69123\\r\\n93,Provence-Alpes-Côte d'Azur,13055\\r\\n94,Corse,2A004\\r\\n\""
      ]
     },
     "execution_count": 14,
     "metadata": {},
     "output_type": "execute_result"
    }
   ],
   "source": [
    "import pandas as pd\n",
    "from io import StringIO\n",
    "\n",
    "output = StringIO()\n",
    "pd.read_csv('./data/raw_data/area/v_region_2023.csv')[['REG', 'LIBELLE', 'CHEFLIEU']].rename(\n",
    "    columns={'REG': 'code', 'LIBELLE': 'nom', 'CHEFLIEU': 'cheflieu'}).to_csv(output, index=False)\n",
    "\n",
    "output.seek(0)\n",
    "output.read()"
   ]
  },
  {
   "cell_type": "code",
   "execution_count": 19,
   "metadata": {},
   "outputs": [
    {
     "name": "stdout",
     "output_type": "stream",
     "text": [
      "{'database': {'dbname': 'BDA', 'user': 'vscode', 'password': 'SQL_BDA', 'host': 'localhost', 'port': 5432}, 'region': {'REG': 'code', 'LIBELLE': 'nom', 'CHEFLIEU': 'cheflieu'}}\n"
     ]
    }
   ],
   "source": [
    "import tomllib\n",
    "\n",
    "with open('./data/config.toml', 'rb') as f:\n",
    "    data = tomllib.load(f)\n",
    "    print(data)"
   ]
  },
  {
   "cell_type": "code",
   "execution_count": 5,
   "metadata": {},
   "outputs": [
    {
     "data": {
      "text/plain": [
       "-1"
      ]
     },
     "execution_count": 5,
     "metadata": {},
     "output_type": "execute_result"
    }
   ],
   "source": [
    "'coucou'.find('ou', 5)"
   ]
  },
  {
   "cell_type": "code",
   "execution_count": 12,
   "metadata": {},
   "outputs": [
    {
     "name": "stdout",
     "output_type": "stream",
     "text": [
      "6\n",
      "28\n",
      "12\n",
      "44\n"
     ]
    },
    {
     "ename": "TypeError",
     "evalue": "'callable_iterator' object is not subscriptable",
     "output_type": "error",
     "traceback": [
      "\u001b[1;31m---------------------------------------------------------------------------\u001b[0m",
      "\u001b[1;31mTypeError\u001b[0m                                 Traceback (most recent call last)",
      "Cell \u001b[1;32mIn[12], line 14\u001b[0m\n\u001b[0;32m     11\u001b[0m \u001b[38;5;28;01mfor\u001b[39;00m match \u001b[38;5;129;01min\u001b[39;00m b:\n\u001b[0;32m     12\u001b[0m     \u001b[38;5;28mprint\u001b[39m(match\u001b[38;5;241m.\u001b[39mend())\n\u001b[1;32m---> 14\u001b[0m \u001b[38;5;28mprint\u001b[39m(string[\u001b[43ma\u001b[49m\u001b[43m[\u001b[49m\u001b[38;5;241;43m0\u001b[39;49m\u001b[43m]\u001b[49m:b[\u001b[38;5;241m0\u001b[39m]])\n",
      "\u001b[1;31mTypeError\u001b[0m: 'callable_iterator' object is not subscriptable"
     ]
    }
   ],
   "source": [
    "import re\n",
    "\n",
    "string = \"Hello world; welcome to the world of Python;\"\n",
    "substring = \"world\"\n",
    "\n",
    "a = [a.start() for a in re.finditer(substring, string)]\n",
    "for match in a:\n",
    "    print(match.start())\n",
    "\n",
    "b = [a.start() for a in re.finditer(';', string)]\n",
    "for match in b:\n",
    "    print(match.start())\n",
    "\n",
    "print(string[a[0]:b[0]])"
   ]
  }
 ],
 "metadata": {
  "kernelspec": {
   "display_name": "Python 3",
   "language": "python",
   "name": "python3"
  },
  "language_info": {
   "codemirror_mode": {
    "name": "ipython",
    "version": 3
   },
   "file_extension": ".py",
   "mimetype": "text/x-python",
   "name": "python",
   "nbconvert_exporter": "python",
   "pygments_lexer": "ipython3",
   "version": "3.12.2"
  }
 },
 "nbformat": 4,
 "nbformat_minor": 2
}
