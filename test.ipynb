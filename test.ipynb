{
 "cells": [
  {
   "cell_type": "code",
   "execution_count": 2,
   "metadata": {},
   "outputs": [],
   "source": [
    "import pandas as pd\n",
    "import tomllib"
   ]
  },
  {
   "cell_type": "code",
   "execution_count": 3,
   "metadata": {},
   "outputs": [],
   "source": [
    "CONFIG_PATH = './data/config.toml'\n",
    "def load_config(section_name: str) -> dict:\n",
    "    with open(CONFIG_PATH, 'rb') as config_file:\n",
    "        return tomllib.load(config_file)[section_name]"
   ]
  },
  {
   "cell_type": "code",
   "execution_count": 6,
   "metadata": {},
   "outputs": [
    {
     "name": "stdout",
     "output_type": "stream",
     "text": [
      "D82_LOG\n",
      "D82_LOGVAC\n",
      "DECE9099\n",
      "DECE8290\n",
      "NAIS9099\n",
      "NAIS8290\n",
      "D82_RP\n",
      "D82_RSECOCC\n"
     ]
    }
   ],
   "source": [
    "df = pd.read_csv('./data/raw_data/pop_census/base-cc-serie-historique-2020.CSV', sep=';', dtype='object')[list(load_config('population').keys())]\n",
    "a = df.isna().any()\n",
    "print(*a[a].index, sep='\\n')"
   ]
  }
 ],
 "metadata": {
  "kernelspec": {
   "display_name": "Python 3",
   "language": "python",
   "name": "python3"
  },
  "language_info": {
   "codemirror_mode": {
    "name": "ipython",
    "version": 3
   },
   "file_extension": ".py",
   "mimetype": "text/x-python",
   "name": "python",
   "nbconvert_exporter": "python",
   "pygments_lexer": "ipython3",
   "version": "3.12.2"
  }
 },
 "nbformat": 4,
 "nbformat_minor": 2
}
