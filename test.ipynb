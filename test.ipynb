{
 "cells": [
  {
   "cell_type": "code",
   "execution_count": null,
   "metadata": {},
   "outputs": [],
   "source": [
    "import pandas as pd\n",
    "import tomllib\n",
    "\n",
    "from data.data_processing import select_rename_columns"
   ]
  },
  {
   "cell_type": "code",
   "execution_count": null,
   "metadata": {},
   "outputs": [],
   "source": [
    "CONFIG_PATH = './data/config.toml'\n",
    "def load_config(section_name: str) -> dict:\n",
    "    with open(CONFIG_PATH, 'rb') as config_file:\n",
    "        return tomllib.load(config_file)[section_name]"
   ]
  },
  {
   "cell_type": "code",
   "execution_count": null,
   "metadata": {},
   "outputs": [],
   "source": [
    "df = pd.read_csv('./data/raw_data/pop_census/base-cc-serie-historique-2020.CSV', sep=';', dtype='object')\n",
    "\n",
    "def population_preprocessing(df: pd.DataFrame, table: str='statistiques_pop') -> pd.DataFrame:\n",
    "    population_config = load_config(table)\n",
    "\n",
    "    df = df.copy()[~df['CODGEO'].str.startswith('97')]\n",
    "\n",
    "    rename_mapper = {key: value for key, value in population_config.items() if isinstance(value, str)}\n",
    "    df = df[list(population_config.keys())].rename(\n",
    "        columns=rename_mapper\n",
    "    )\n",
    "    \n",
    "    temp_dfs = []\n",
    "    statistics_mapper = {key: value for key, value in population_config.items() if isinstance(value, list)}\n",
    "    nbr_max_params = sum(map(len, statistics_mapper.values()))\n",
    "    for column, fields in statistics_mapper.items():\n",
    "        temp_dfs.append(\n",
    "            pd.DataFrame(\n",
    "                {name: df[name] for name in rename_mapper.values()} | {\n",
    "                    'annee_debut': fields[1],\n",
    "                    'annee_fin': fields[1] if len(fields) < nbr_max_params else fields[2],\n",
    "                    'type_statistique': fields[0],\n",
    "                    'valeur': df[column].astype(float)\n",
    "                }\n",
    "            )\n",
    "        )\n",
    "\n",
    "    return pd.concat(temp_dfs, ignore_index=True)\n",
    "\n",
    "population_preprocessing(df)"
   ]
  },
  {
   "cell_type": "code",
   "execution_count": null,
   "metadata": {},
   "outputs": [],
   "source": [
    "df = pd.read_csv('./data/raw_data/area/v_commune_2023.csv', dtype='object')\n",
    "df1 = pd.read_csv('./data/raw_data/pop_census/base-cc-serie-historique-2020.CSV', sep=';', dtype='object')\n",
    "\n",
    "\n",
    "df1[~df1['CODGEO'].isin(df[df['TYPECOM'] == 'ARM']['COM'])]"
   ]
  },
  {
   "cell_type": "code",
   "execution_count": null,
   "metadata": {},
   "outputs": [],
   "source": [
    "print(('(\\'' + pd.DataFrame({'a': ['Je suis', 'une', 'banante']})['a'] + '\\', \\'population\\', \\'2024\\', \\'2024\\', 1)').str.cat(sep=',\\n') + \";\")"
   ]
  },
  {
   "cell_type": "code",
   "execution_count": null,
   "metadata": {},
   "outputs": [],
   "source": [
    "file_path, table = f'./data/raw_data/area/v_commune_2023.csv', 'commune'\n",
    "df = pd.read_csv(file_path) # Lecture du fichier CSV\n",
    "df = df[df['TYPECOM'].isin(['COM', 'ARM'])] # Filtration des données\n",
    "df = df[df['COM'].map(lambda x: int(x) < 97000 if x.isnumeric() else True)]\n",
    "arm_com = df[df['TYPECOM'] == 'ARM']['COM'] # Commune qui sont des arrondissements\n",
    "df = df.merge(\n",
    "    pd.read_csv('./data/raw_data/pop_census/base-cc-serie-historique-2020.CSV', sep=';', dtype='object')[['CODGEO', 'SUPERF']],\n",
    "    left_on='COM',\n",
    "    right_on='CODGEO')\n",
    "df = select_rename_columns(df, table) # Sélection et renommage des colonnes d'intérêts\n",
    "df"
   ]
  },
  {
   "cell_type": "code",
   "execution_count": null,
   "metadata": {},
   "outputs": [],
   "source": [
    "pd.read_csv('./data/raw_data/pop_census/base-cc-serie-historique-2020.CSV', sep=';', dtype='object')[['CODGEO', 'SUPERF']]"
   ]
  }
 ],
 "metadata": {
  "kernelspec": {
   "display_name": "Python 3",
   "language": "python",
   "name": "python3"
  },
  "language_info": {
   "codemirror_mode": {
    "name": "ipython",
    "version": 3
   },
   "file_extension": ".py",
   "mimetype": "text/x-python",
   "name": "python",
   "nbconvert_exporter": "python",
   "pygments_lexer": "ipython3",
   "version": "3.12.2"
  }
 },
 "nbformat": 4,
 "nbformat_minor": 2
}
