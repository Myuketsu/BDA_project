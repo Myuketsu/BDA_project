{
 "cells": [
  {
   "cell_type": "code",
   "execution_count": null,
   "metadata": {},
   "outputs": [],
   "source": [
    "import pandas as pd\n",
    "import tomllib\n",
    "\n",
    "from data.data_processing import select_rename_columns"
   ]
  },
  {
   "cell_type": "code",
   "execution_count": null,
   "metadata": {},
   "outputs": [],
   "source": [
    "CONFIG_PATH = './data/config.toml'\n",
    "def load_config(section_name: str) -> dict:\n",
    "    with open(CONFIG_PATH, 'rb') as config_file:\n",
    "        return tomllib.load(config_file)[section_name]"
   ]
  },
  {
   "cell_type": "code",
   "execution_count": null,
   "metadata": {},
   "outputs": [],
   "source": [
    "df = pd.read_csv('./data/raw_data/pop_census/base-cc-serie-historique-2020.CSV', sep=';', dtype='object')\n",
    "\n",
    "def population_preprocessing(df: pd.DataFrame, table: str='population') -> pd.DataFrame:\n",
    "    population_config = load_config(table)\n",
    "\n",
    "    df = df.copy()[~df['CODGEO'].str.startswith('97')]\n",
    "\n",
    "    rename_mapper = {key: value for key, value in population_config.items() if isinstance(value, str)}\n",
    "    df = df[list(population_config.keys())].rename(\n",
    "        columns=rename_mapper\n",
    "    )\n",
    "    \n",
    "    temp_dfs = []\n",
    "    statistics_mapper = {key: value for key, value in population_config.items() if isinstance(value, list)}\n",
    "    nbr_max_params = sum(map(len, statistics_mapper.values()))\n",
    "    for column, fields in statistics_mapper.items():\n",
    "        temp_dfs.append(\n",
    "            pd.DataFrame(\n",
    "                {name: df[name] for name in rename_mapper.values()} | {\n",
    "                    'annee_debut': fields[1],\n",
    "                    'annee_fin': None if len(fields) < nbr_max_params else fields[2],\n",
    "                    'type_statistique': fields[0],\n",
    "                    'valeur': df[column]\n",
    "                }\n",
    "            )\n",
    "        )\n",
    "\n",
    "    return pd.concat(temp_dfs, ignore_index=True)\n",
    "\n",
    "population_preprocessing(df)"
   ]
  }
 ],
 "metadata": {
  "kernelspec": {
   "display_name": "Python 3",
   "language": "python",
   "name": "python3"
  },
  "language_info": {
   "codemirror_mode": {
    "name": "ipython",
    "version": 3
   },
   "file_extension": ".py",
   "mimetype": "text/x-python",
   "name": "python",
   "nbconvert_exporter": "python",
   "pygments_lexer": "ipython3",
   "version": "3.12.2"
  }
 },
 "nbformat": 4,
 "nbformat_minor": 2
}
